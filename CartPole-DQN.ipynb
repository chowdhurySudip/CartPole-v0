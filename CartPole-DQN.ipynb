{
 "cells": [
  {
   "cell_type": "code",
   "execution_count": 1,
   "id": "shared-london",
   "metadata": {},
   "outputs": [],
   "source": [
    "import gym\n",
    "import tqdm\n",
    "import random\n",
    "import numpy as np\n",
    "import torch\n",
    "import torch.nn as nn\n",
    "import torch.optim as optim\n",
    "import torch.nn.functional as F\n",
    "from collections import namedtuple, deque"
   ]
  },
  {
   "cell_type": "code",
   "execution_count": 2,
   "id": "ranging-pearl",
   "metadata": {},
   "outputs": [],
   "source": [
    "Transition = namedtuple(\n",
    "    \"Transition\",\n",
    "    (\"state\", \"action\", \"reward\", \"next_state\", \"done\")\n",
    ")\n",
    "\n",
    "class Memories(object):\n",
    "    def __init__(self, size):\n",
    "        self.memory = deque(maxlen=size)\n",
    "    \n",
    "    def __add__(self, transition):\n",
    "        self.memory.append(transition)\n",
    "    \n",
    "    def __len__(self):\n",
    "        return len(self.memory)\n",
    "    \n",
    "    def sample(self, batch_size):\n",
    "        return random.sample(self.memory, batch_size)"
   ]
  },
  {
   "cell_type": "code",
   "execution_count": 3,
   "id": "assumed-interest",
   "metadata": {},
   "outputs": [],
   "source": [
    "class DQN(nn.Module):\n",
    "    def __init__(self, in_shape, hidden, out_shape):\n",
    "        super(DQN, self).__init__()\n",
    "        \n",
    "        self.lin1 = nn.Linear(in_shape, hidden)\n",
    "        self.lin2 = nn.Linear(hidden, hidden)\n",
    "        self.lin3 = nn.Linear(hidden, out_shape)\n",
    "    \n",
    "    def forward(self, x):\n",
    "        x = F.relu(self.lin1(x))\n",
    "        x = F.relu(self.lin2(x))\n",
    "        x = self.lin3(x)\n",
    "        return x"
   ]
  },
  {
   "cell_type": "code",
   "execution_count": 4,
   "id": "strong-arkansas",
   "metadata": {},
   "outputs": [],
   "source": [
    "env = gym.make(\"CartPole-v0\")"
   ]
  },
  {
   "cell_type": "code",
   "execution_count": 5,
   "id": "contained-statement",
   "metadata": {},
   "outputs": [],
   "source": [
    "BATCH_SIZE = 128\n",
    "GAMMA = 0.999\n",
    "EPSILON_MAX = 1\n",
    "EPSILON_MIN = 0.01\n",
    "EPSILON_DECAY = 0.999\n",
    "HIDDEN_SIZE = 64\n",
    "\n",
    "state_shape = env.observation_space.shape[0]\n",
    "n_actions = env.action_space.n"
   ]
  },
  {
   "cell_type": "code",
   "execution_count": 6,
   "id": "reduced-solution",
   "metadata": {},
   "outputs": [],
   "source": [
    "memory = Memories(size=10000)\n",
    "policy_net = DQN(state_shape, HIDDEN_SIZE, n_actions)\n",
    "optimizer = optim.Adam(policy_net.parameters(), lr=5e-3)"
   ]
  },
  {
   "cell_type": "code",
   "execution_count": 7,
   "id": "devoted-eagle",
   "metadata": {},
   "outputs": [],
   "source": [
    "def select_action(state):\n",
    "    if np.random.rand() > EPSILON_MAX:\n",
    "        with torch.no_grad():\n",
    "            return policy_net(state).argmax(1).view(1, 1)\n",
    "    else:\n",
    "        return torch.tensor([[random.randrange(n_actions)]], dtype=torch.long)"
   ]
  },
  {
   "cell_type": "code",
   "execution_count": 8,
   "id": "weekly-filename",
   "metadata": {},
   "outputs": [],
   "source": [
    "def experience_replay():\n",
    "    global EPSILON_MAX\n",
    "    \n",
    "    if len(memory) < BATCH_SIZE: return\n",
    "        \n",
    "    transitions = memory.sample(BATCH_SIZE)\n",
    "    batch = Transition(*zip(*transitions))\n",
    "\n",
    "    state_batch = torch.cat(batch.state)\n",
    "    action_batch = torch.cat(batch.action)\n",
    "    next_state_batch = torch.cat(batch.next_state)\n",
    "    reward_batch = torch.tensor(batch.reward)\n",
    "\n",
    "    done_batch = (torch.tensor(batch.done) == False).type(dtype=torch.long)\n",
    "\n",
    "    predicted_Q_s_a = policy_net(state_batch).gather(1, action_batch)\n",
    "\n",
    "    expected_Q_s_a = (done_batch * GAMMA * policy_net(next_state_batch).max(1)[0]) + reward_batch\n",
    "\n",
    "    loss = F.smooth_l1_loss(predicted_Q_s_a, expected_Q_s_a.unsqueeze(1))\n",
    "\n",
    "    optimizer.zero_grad()\n",
    "    loss.backward()\n",
    "    for param in policy_net.parameters():\n",
    "        param.grad.data.clamp_(-1, 1)\n",
    "    optimizer.step()\n",
    "    \n",
    "    EPSILON_MAX *= EPSILON_DECAY\n",
    "    EPSILON_MAX = max(EPSILON_MAX, EPSILON_MIN)"
   ]
  },
  {
   "cell_type": "code",
   "execution_count": 9,
   "id": "expressed-reward",
   "metadata": {},
   "outputs": [],
   "source": [
    "reward_threshold = 200"
   ]
  },
  {
   "cell_type": "code",
   "execution_count": null,
   "id": "inappropriate-forth",
   "metadata": {},
   "outputs": [
    {
     "name": "stderr",
     "output_type": "stream",
     "text": [
      "Episode 343:   0%|          | 343/100000 [01:25<12:25:09,  2.23it/s, episode_reward=200, running_reward=178]"
     ]
    }
   ],
   "source": [
    "n_episodes = 100000\n",
    "score_card = deque(maxlen=100)\n",
    "\n",
    "with tqdm.trange(n_episodes) as t:\n",
    "    for episode in t:\n",
    "        episode_reward = 0\n",
    "        state = env.reset()\n",
    "        state = torch.tensor([state], dtype=torch.float32)\n",
    "        for step in range(1000):\n",
    "            action = select_action(state)\n",
    "            next_state, reward, done, _ = env.step(action.item())\n",
    "            \n",
    "            next_state = torch.tensor([next_state], dtype=torch.float32)\n",
    "            \n",
    "            memory + Transition(state, action, reward, next_state, done)\n",
    "\n",
    "            state = next_state            \n",
    "            experience_replay()\n",
    "            episode_reward += reward\n",
    "            \n",
    "            if done: break\n",
    "        \n",
    "        score_card.append(episode_reward)\n",
    "        running_reward = np.sum(score_card)/100\n",
    "        \n",
    "        t.set_description(f'Episode {episode+1}')\n",
    "        t.set_postfix(\n",
    "            episode_reward=episode_reward, running_reward=running_reward\n",
    "        )\n",
    "\n",
    "        if running_reward >= reward_threshold:\n",
    "            break\n",
    "print(\"Done\")"
   ]
  },
  {
   "cell_type": "code",
   "execution_count": null,
   "id": "grave-representative",
   "metadata": {},
   "outputs": [],
   "source": []
  }
 ],
 "metadata": {
  "kernelspec": {
   "display_name": "Python 3",
   "language": "python",
   "name": "python3"
  },
  "language_info": {
   "codemirror_mode": {
    "name": "ipython",
    "version": 3
   },
   "file_extension": ".py",
   "mimetype": "text/x-python",
   "name": "python",
   "nbconvert_exporter": "python",
   "pygments_lexer": "ipython3",
   "version": "3.8.8"
  }
 },
 "nbformat": 4,
 "nbformat_minor": 5
}
